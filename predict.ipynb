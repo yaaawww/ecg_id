{
 "cells": [
  {
   "cell_type": "code",
   "execution_count": 14,
   "id": "4cbb803e-0304-4380-b089-84cf3bf10d1b",
   "metadata": {},
   "outputs": [],
   "source": [
    "import torch\n",
    "import torch.nn as nn\n",
    "from MobileNetV2 import mobilenet_v2\n",
    "from torchvision import transforms\n",
    "from torchvision import datasets\n",
    "from torch.utils.data import DataLoader\n",
    "import numpy as np"
   ]
  },
  {
   "cell_type": "code",
   "execution_count": 15,
   "id": "b06883ee-7310-45a6-bd93-a564bd259e69",
   "metadata": {},
   "outputs": [],
   "source": [
    "save_path = 'save_model/ecg_id.pt'\n",
    "model = torch.load(save_path)"
   ]
  },
  {
   "cell_type": "code",
   "execution_count": 16,
   "id": "3806c816-cc40-4869-a1ba-00dc62cd1c0d",
   "metadata": {},
   "outputs": [],
   "source": [
    "# 超参数\n",
    "input_size = 224\n",
    "batch_size = 32\n",
    "n_worker = 0\n",
    "epochs = 150"
   ]
  },
  {
   "cell_type": "code",
   "execution_count": 17,
   "id": "6ca501ba-424f-4e19-baef-8ebffb1bfbe6",
   "metadata": {},
   "outputs": [],
   "source": [
    "test_path = \"image/test_image\"\n",
    "normalize = transforms.Normalize(mean=[0.485, 0.456, 0.406], std=[0.229, 0.224, 0.225])\n",
    "data_transform = transforms.Compose([\n",
    "        transforms.RandomResizedCrop(input_size, scale=(0.2, 1.0)), \n",
    "        transforms.RandomHorizontalFlip(),\n",
    "        transforms.ToTensor(),\n",
    "        normalize,\n",
    "])\n",
    "test_dataset = datasets.ImageFolder(test_path, transform=data_transform)\n",
    "test_loader = DataLoader(\n",
    "    test_dataset, batch_size=batch_size, shuffle=False, \n",
    "    num_workers=n_worker)"
   ]
  },
  {
   "cell_type": "code",
   "execution_count": 18,
   "id": "08becd83-af83-4085-b805-ab9fa8325b86",
   "metadata": {},
   "outputs": [],
   "source": [
    "def test():       \n",
    "    model.eval()\n",
    "    gt_labels = []\n",
    "    pred_labels = []\n",
    "    with torch.no_grad():\n",
    "        for data, label in test_loader:\n",
    "            data, label = data.cuda(), label.cuda()\n",
    "            output = model(data)\n",
    "            preds = torch.argmax(output, 1)\n",
    "            gt_labels.append(label.cpu().data.numpy())\n",
    "            pred_labels.append(preds.cpu().data.numpy())\n",
    "    gt_labels, pred_labels = np.concatenate(gt_labels), np.concatenate(pred_labels)\n",
    "    acc = np.sum(gt_labels==pred_labels)/len(pred_labels)\n",
    "    print('Accuracy: {:6f}'.format(acc))"
   ]
  },
  {
   "cell_type": "code",
   "execution_count": 19,
   "id": "0d15fd61-c1a2-408d-b9de-99a446e3af81",
   "metadata": {},
   "outputs": [
    {
     "name": "stdout",
     "output_type": "stream",
     "text": [
      "Accuracy: 0.573889\n"
     ]
    }
   ],
   "source": [
    "test()"
   ]
  },
  {
   "cell_type": "code",
   "execution_count": null,
   "id": "f55485c2-f18a-40ac-825f-96994df61082",
   "metadata": {},
   "outputs": [],
   "source": []
  }
 ],
 "metadata": {
  "kernelspec": {
   "display_name": "Python 3 (ipykernel)",
   "language": "python",
   "name": "python3"
  },
  "language_info": {
   "codemirror_mode": {
    "name": "ipython",
    "version": 3
   },
   "file_extension": ".py",
   "mimetype": "text/x-python",
   "name": "python",
   "nbconvert_exporter": "python",
   "pygments_lexer": "ipython3",
   "version": "3.9.19"
  }
 },
 "nbformat": 4,
 "nbformat_minor": 5
}
