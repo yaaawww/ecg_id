{
 "cells": [
  {
   "cell_type": "code",
   "execution_count": 30,
   "id": "fd5fe31d-1937-4c7e-94d9-d8f61018a5a6",
   "metadata": {},
   "outputs": [],
   "source": [
    "import multiprocessing\n",
    "import numpy as np"
   ]
  },
  {
   "cell_type": "code",
   "execution_count": 34,
   "id": "e14b9a28-2280-4da4-8f07-b19bc871198d",
   "metadata": {},
   "outputs": [
    {
     "name": "stdout",
     "output_type": "stream",
     "text": [
      "[1. 2.]\n"
     ]
    }
   ],
   "source": [
    "arr = np.array([1, 2])\n",
    "arr_shared = multiprocessing.RawArray('d', arr) # 'd' for double, which is float64\n",
    "arr_new = np.frombuffer(arr_shared, dtype=np.double)\n",
    "print(arr_new) # 返回 [0. 0. 0. 0. 0.]"
   ]
  },
  {
   "cell_type": "code",
   "execution_count": 26,
   "id": "448e36a0-128f-48ea-b4ec-5af87a8712fa",
   "metadata": {},
   "outputs": [
    {
     "data": {
      "text/plain": [
       "<c_long_Array_2 at 0x265d12dabc0>"
      ]
     },
     "execution_count": 26,
     "metadata": {},
     "output_type": "execute_result"
    }
   ],
   "source": [
    "ctypes_arr = ctypeslib.as_ctypes(np_arr)\n",
    "ctypes_arr"
   ]
  },
  {
   "cell_type": "code",
   "execution_count": 27,
   "id": "c8c3b4da-7c45-4ad2-92ff-74ac369dfd08",
   "metadata": {},
   "outputs": [],
   "source": [
    "shared_arr = multiprocessing.RawArray(ctypes_arr._type_, ctypes_arr)"
   ]
  },
  {
   "cell_type": "code",
   "execution_count": 29,
   "id": "137d9a0e-7199-486e-a51c-4c04c36c88e9",
   "metadata": {},
   "outputs": [
    {
     "name": "stdout",
     "output_type": "stream",
     "text": [
      "[4.24399158e-314]\n"
     ]
    }
   ],
   "source": [
    "shared_arr_np = np.frombuffer(shared_arr)\n",
    "print(shared_arr_np)"
   ]
  },
  {
   "cell_type": "code",
   "execution_count": null,
   "id": "0b57638d-17a3-4dac-add3-80912c25aba4",
   "metadata": {},
   "outputs": [],
   "source": []
  }
 ],
 "metadata": {
  "kernelspec": {
   "display_name": "Python 3 (ipykernel)",
   "language": "python",
   "name": "python3"
  },
  "language_info": {
   "codemirror_mode": {
    "name": "ipython",
    "version": 3
   },
   "file_extension": ".py",
   "mimetype": "text/x-python",
   "name": "python",
   "nbconvert_exporter": "python",
   "pygments_lexer": "ipython3",
   "version": "3.9.19"
  }
 },
 "nbformat": 4,
 "nbformat_minor": 5
}
