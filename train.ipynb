{
 "cells": [
  {
   "cell_type": "code",
   "execution_count": 1,
   "id": "9a5fab2e-75e4-45f0-a158-6c0484664513",
   "metadata": {},
   "outputs": [],
   "source": [
    "# pytorch\n",
    "import torch\n",
    "import torch.nn as nn\n",
    "# Mobile Net\n",
    "# from MobileNetV2 import mobilenet_v2\n",
    "from MobileNetV3 import mobilenetv3_large, mobilenetv3_small\n",
    "# dataset\n",
    "from torchvision import datasets\n",
    "from torchvision import transforms\n",
    "# dataloader\n",
    "from torch.utils.data import DataLoader\n",
    "# Util\n",
    "import time\n",
    "import datetime\n",
    "import numpy as np\n",
    "import matplotlib.pyplot as plt\n",
    "import copy\n",
    "# tensorboard\n",
    "from torch.utils.tensorboard import SummaryWriter\n",
    "# plt\n",
    "import matplotlib\n",
    "import matplotlib.pyplot as plt\n",
    "plt.rcParams['font.family'] = 'Noto Sans CJK JP'\n",
    "matplotlib.rcParams.update({'font.size': 13})\n",
    "import scipy.io as scio\n",
    "from scipy.io import loadmat"
   ]
  },
  {
   "cell_type": "code",
   "execution_count": 2,
   "id": "136ba4e5",
   "metadata": {},
   "outputs": [],
   "source": [
    "# loss下降曲线vec\n",
    "loss_vec4 = []\n",
    "loss_vec8 = []\n",
    "loss_vec16 = []\n",
    "loss_vec32 = []\n",
    "loss_vec64 = []"
   ]
  },
  {
   "cell_type": "code",
   "execution_count": 3,
   "id": "61e43e83",
   "metadata": {},
   "outputs": [],
   "source": [
    "# 超参数\n",
    "input_size = 224\n",
    "batch_size = 32\n",
    "n_worker = 8\n",
    "lr = 0.001\n",
    "epochs = 50"
   ]
  },
  {
   "cell_type": "code",
   "execution_count": 4,
   "id": "916c1c6f-6228-4d64-928d-68c045094bd4",
   "metadata": {},
   "outputs": [],
   "source": [
    "# 生成训练数据集\n",
    "train_path = \"image/train_image\"\n",
    "test_path = \"image/test_image\"\n",
    "# val_path = \"Image/val_image\"\n",
    "data_transform = transforms.Compose([\n",
    "        transforms.Resize([input_size, input_size]),\n",
    "        transforms.ToTensor(),\n",
    "])\n",
    "train_dataset = datasets.ImageFolder(train_path, transform=data_transform)\n",
    "test_dataset = datasets.ImageFolder(test_path, transform=data_transform)\n",
    "# val_dataset = datasets.ImageFolder(val_path, transform=data_transform)"
   ]
  },
  {
   "cell_type": "code",
   "execution_count": 5,
   "id": "63a6157c-189f-46fc-9698-f8b99af5efe6",
   "metadata": {},
   "outputs": [],
   "source": [
    "train_loader = DataLoader(\n",
    "    train_dataset, batch_size=batch_size, shuffle=True,\n",
    "    num_workers=n_worker, pin_memory=True)\n",
    "test_loader = DataLoader(\n",
    "    test_dataset, batch_size=20, shuffle=False, \n",
    "    num_workers=n_worker)\n",
    "# val_loader = DataLoader(\n",
    "    # val_dataset, batch_size=batch_size, shuffle=False, \n",
    "    # num_workers=n_worker)"
   ]
  },
  {
   "cell_type": "code",
   "execution_count": 6,
   "id": "ffc0b0d3",
   "metadata": {},
   "outputs": [
    {
     "data": {
      "text/plain": [
       "90"
      ]
     },
     "execution_count": 6,
     "metadata": {},
     "output_type": "execute_result"
    }
   ],
   "source": [
    "len(test_loader)"
   ]
  },
  {
   "cell_type": "code",
   "execution_count": 7,
   "id": "4c7b0afc",
   "metadata": {},
   "outputs": [],
   "source": [
    "model = mobilenetv3_large()\n",
    "# model = mobilenet_v2()\n",
    "model.classifier[3] = nn.Linear(1280, 90)\n",
    "model = model.cuda(3)\n",
    "criterion = nn.CrossEntropyLoss()\n",
    "optimizer = torch.optim.Adam(model.parameters(), lr=lr)\n",
    "# scheduler = torch.optim.lr_scheduler.StepLR(optimizer, step_size=3, gamma=0.97)\n",
    "best_model_wts = copy.deepcopy(model.state_dict())\n",
    "# writer = SummaryWriter()"
   ]
  },
  {
   "cell_type": "code",
   "execution_count": 8,
   "id": "75e7a13a-3f06-4de6-9e6a-cea34fa8c28f",
   "metadata": {},
   "outputs": [],
   "source": [
    "def train(epoch, model):\n",
    "    model.train()\n",
    "    train_loss = 0\n",
    "    for data, label in train_loader:\n",
    "        data, label = data.cuda(3), label.cuda(3)\n",
    "        # clear the grad\n",
    "        optimizer.zero_grad()\n",
    "        output = model(data)\n",
    "        # loss function\n",
    "        loss = criterion(output, label)\n",
    "        loss.backward()\n",
    "        optimizer.step()\n",
    "        # scheduler.step()\n",
    "        train_loss += loss.item() * data.size(0)\n",
    "    train_loss = train_loss / len(train_loader.dataset)\n",
    "    # writer.add_scalar(\"Loss/train\", train_loss, epoch)\n",
    "    loss_vec64.append(train_loss)\n",
    "    print('Epoch: {} \\tTraining Loss: {:.6f}'.format(epoch, train_loss))"
   ]
  },
  {
   "cell_type": "code",
   "execution_count": 9,
   "id": "7af63268-0bcc-4404-a89d-4c17d6f1b0ea",
   "metadata": {},
   "outputs": [],
   "source": [
    "def val(epoch, model):       \n",
    "    model.eval()\n",
    "    val_loss = 0\n",
    "    gt_labels = []\n",
    "    pred_labels = []\n",
    "    with torch.no_grad():\n",
    "        for data, label in val_loader:\n",
    "            data, label = data.cuda(3), label.cuda(3)\n",
    "            output = model(data)\n",
    "            preds = torch.argmax(output, 1)\n",
    "            gt_labels.append(label.cpu().data.numpy())\n",
    "            pred_labels.append(preds.cpu().data.numpy())\n",
    "            loss = criterion(output, label)\n",
    "            val_loss += loss.item()*data.size(0)\n",
    "    val_loss = val_loss/len(val_loader.dataset)\n",
    "    # writer.add_scalar(\"Loss/val\", val_loss, epoch)\n",
    "    gt_labels, pred_labels = np.concatenate(gt_labels), np.concatenate(pred_labels)\n",
    "    acc = np.sum(gt_labels==pred_labels)/len(pred_labels)\n",
    "    # writer.add_scalar(\"Acc/train\", acc, epoch)\n",
    "    print('Epoch: {} \\tValidation Loss: {:.6f}, Accuracy: {:6f}'.format(epoch, val_loss, acc))"
   ]
  },
  {
   "cell_type": "code",
   "execution_count": 10,
   "id": "24a8cfb1-cfaa-42ac-9fdd-fd1d708ac2d6",
   "metadata": {},
   "outputs": [],
   "source": [
    "def test(epoch, model):\n",
    "    model.eval()\n",
    "    idx = 0\n",
    "    ans = 0.0\n",
    "    best_acc = 0.0\n",
    "    with torch.no_grad():\n",
    "        for data, label in test_loader:\n",
    "            data, label = data.cuda(3), label.cuda(3)\n",
    "            output = model(data)\n",
    "            preds = torch.argmax(output, 1)\n",
    "            unique_values, counts = torch.unique(preds, return_counts=True)\n",
    "            pres = unique_values[counts.argmax()]\n",
    "            if pres.item() == idx:\n",
    "                ans += 1\n",
    "            idx += 1\n",
    "    acc = ans / 90\n",
    "    if acc > best_acc:\n",
    "        best_model_wts = copy.deepcopy(model.state_dict())\n",
    "    print('Epoch: {} Accuracy: {:6f}'.format(epoch, acc))\n",
    "    return acc"
   ]
  },
  {
   "cell_type": "code",
   "execution_count": 11,
   "id": "0098d60d",
   "metadata": {},
   "outputs": [
    {
     "name": "stdout",
     "output_type": "stream",
     "text": [
      "Epoch: 1 \tTraining Loss: 4.128084\n",
      "Epoch: 1 Accuracy: 0.011111\n",
      "Epoch: 2 \tTraining Loss: 3.369933\n",
      "Epoch: 2 Accuracy: 0.100000\n",
      "Epoch: 3 \tTraining Loss: 2.941863\n",
      "Epoch: 3 Accuracy: 0.200000\n",
      "Epoch: 4 \tTraining Loss: 2.664902\n",
      "Epoch: 4 Accuracy: 0.266667\n",
      "Epoch: 5 \tTraining Loss: 2.371099\n",
      "Epoch: 5 Accuracy: 0.255556\n",
      "Epoch: 6 \tTraining Loss: 2.149478\n",
      "Epoch: 6 Accuracy: 0.388889\n",
      "Epoch: 7 \tTraining Loss: 1.839018\n",
      "Epoch: 7 Accuracy: 0.533333\n",
      "Epoch: 8 \tTraining Loss: 1.610886\n",
      "Epoch: 8 Accuracy: 0.500000\n",
      "Epoch: 9 \tTraining Loss: 1.417088\n",
      "Epoch: 9 Accuracy: 0.522222\n",
      "Epoch: 10 \tTraining Loss: 1.292599\n",
      "Epoch: 10 Accuracy: 0.677778\n",
      "Epoch: 11 \tTraining Loss: 1.016511\n",
      "Epoch: 11 Accuracy: 0.766667\n",
      "Epoch: 12 \tTraining Loss: 1.038721\n",
      "Epoch: 12 Accuracy: 0.722222\n",
      "Epoch: 13 \tTraining Loss: 0.765349\n",
      "Epoch: 13 Accuracy: 0.733333\n",
      "Epoch: 14 \tTraining Loss: 0.742942\n",
      "Epoch: 14 Accuracy: 0.788889\n",
      "Epoch: 15 \tTraining Loss: 0.616843\n",
      "Epoch: 15 Accuracy: 0.777778\n",
      "Epoch: 16 \tTraining Loss: 0.632790\n",
      "Epoch: 16 Accuracy: 0.755556\n",
      "Epoch: 17 \tTraining Loss: 0.512639\n",
      "Epoch: 17 Accuracy: 0.722222\n",
      "Epoch: 18 \tTraining Loss: 0.571570\n",
      "Epoch: 18 Accuracy: 0.788889\n",
      "Epoch: 19 \tTraining Loss: 0.454645\n",
      "Epoch: 19 Accuracy: 0.811111\n",
      "Epoch: 20 \tTraining Loss: 0.491739\n",
      "Epoch: 20 Accuracy: 0.833333\n",
      "Epoch: 21 \tTraining Loss: 0.332331\n",
      "Epoch: 21 Accuracy: 0.855556\n",
      "Epoch: 22 \tTraining Loss: 0.330781\n",
      "Epoch: 22 Accuracy: 0.888889\n",
      "Epoch: 23 \tTraining Loss: 0.324855\n",
      "Epoch: 23 Accuracy: 0.622222\n",
      "Epoch: 24 \tTraining Loss: 0.477361\n",
      "Epoch: 24 Accuracy: 0.866667\n",
      "Epoch: 25 \tTraining Loss: 0.245333\n",
      "Epoch: 25 Accuracy: 0.900000\n",
      "Epoch: 26 \tTraining Loss: 0.305463\n",
      "Epoch: 26 Accuracy: 0.855556\n",
      "Epoch: 27 \tTraining Loss: 0.363832\n",
      "Epoch: 27 Accuracy: 0.911111\n",
      "Epoch: 28 \tTraining Loss: 0.212118\n",
      "Epoch: 28 Accuracy: 0.911111\n",
      "Epoch: 29 \tTraining Loss: 0.180096\n",
      "Epoch: 29 Accuracy: 0.800000\n",
      "Epoch: 30 \tTraining Loss: 0.371123\n",
      "Epoch: 30 Accuracy: 0.844444\n",
      "Epoch: 31 \tTraining Loss: 0.245511\n",
      "Epoch: 31 Accuracy: 0.911111\n",
      "Epoch: 32 \tTraining Loss: 0.348453\n",
      "Epoch: 32 Accuracy: 0.877778\n",
      "Epoch: 33 \tTraining Loss: 0.198078\n",
      "Epoch: 33 Accuracy: 0.900000\n",
      "Epoch: 34 \tTraining Loss: 0.179190\n",
      "Epoch: 34 Accuracy: 0.922222\n",
      "Epoch: 35 \tTraining Loss: 0.223257\n",
      "Epoch: 35 Accuracy: 0.911111\n",
      "Epoch: 36 \tTraining Loss: 0.148437\n",
      "Epoch: 36 Accuracy: 0.911111\n",
      "Epoch: 37 \tTraining Loss: 0.181838\n",
      "Epoch: 37 Accuracy: 0.911111\n",
      "Epoch: 38 \tTraining Loss: 0.128629\n",
      "Epoch: 38 Accuracy: 0.866667\n",
      "Epoch: 39 \tTraining Loss: 0.182302\n",
      "Epoch: 39 Accuracy: 0.888889\n",
      "Epoch: 40 \tTraining Loss: 0.157467\n",
      "Epoch: 40 Accuracy: 0.900000\n",
      "Epoch: 41 \tTraining Loss: 0.170983\n",
      "Epoch: 41 Accuracy: 0.877778\n",
      "Epoch: 42 \tTraining Loss: 0.242989\n",
      "Epoch: 42 Accuracy: 0.877778\n",
      "Epoch: 43 \tTraining Loss: 0.257796\n",
      "Epoch: 43 Accuracy: 0.888889\n",
      "Epoch: 44 \tTraining Loss: 0.191338\n",
      "Epoch: 44 Accuracy: 0.933333\n",
      "Epoch: 45 \tTraining Loss: 0.236650\n",
      "Epoch: 45 Accuracy: 0.933333\n",
      "Epoch: 46 \tTraining Loss: 0.174604\n",
      "Epoch: 46 Accuracy: 0.900000\n",
      "Epoch: 47 \tTraining Loss: 0.149810\n",
      "Epoch: 47 Accuracy: 0.955556\n",
      "Epoch: 48 \tTraining Loss: 0.162042\n",
      "Epoch: 48 Accuracy: 0.900000\n",
      "Epoch: 49 \tTraining Loss: 0.088814\n",
      "Epoch: 49 Accuracy: 0.933333\n",
      "Epoch: 50 \tTraining Loss: 0.121289\n",
      "Epoch: 50 Accuracy: 0.944444\n",
      "Training time 0:03:58\n"
     ]
    }
   ],
   "source": [
    "start_time = time.time()\n",
    "for epoch in range(1, epochs + 1):\n",
    "    train(epoch, model)\n",
    "    test(epoch, model)\n",
    "total_time = time.time() - start_time\n",
    "total_time_str = str(datetime.timedelta(seconds=int(total_time)))\n",
    "print(f\"Training time {total_time_str}\")"
   ]
  },
  {
   "cell_type": "code",
   "execution_count": 54,
   "id": "2e9209e7",
   "metadata": {},
   "outputs": [
    {
     "name": "stdout",
     "output_type": "stream",
     "text": [
      "Epoch: 20 \tTraining Loss: 0.001821\n",
      "2.5790278911590576\n"
     ]
    }
   ],
   "source": [
    "# 计算训练时间\n",
    "tic = time.time()\n",
    "train(epoch, model)\n",
    "toc = time.time()\n",
    "print(toc - tic)"
   ]
  },
  {
   "cell_type": "code",
   "execution_count": 13,
   "id": "ea3e2e2a-0723-4ceb-97ae-ec1f28316dcf",
   "metadata": {},
   "outputs": [
    {
     "name": "stdout",
     "output_type": "stream",
     "text": [
      "Epoch: 1 Accuracy: 0.675000\n",
      "2.109910488128662\n"
     ]
    }
   ],
   "source": [
    "# 计算测试时间\n",
    "tic = time.time()\n",
    "test(1, model)\n",
    "toc = time.time()\n",
    "print(toc - tic)"
   ]
  },
  {
   "cell_type": "code",
   "execution_count": 63,
   "id": "d34c67e4-0058-4e97-8a86-5b3194ab5f98",
   "metadata": {},
   "outputs": [
    {
     "data": {
      "image/png": "[encoded data removed]",
      "text/plain": [
       "<Figure size 640x480 with 1 Axes>"
      ]
     },
     "metadata": {},
     "output_type": "display_data"
    }
   ],
   "source": [
    "# show train pic\n",
    "plt.ylabel(\"loss\")\n",
    "plt.xlabel(\"step\")\n",
    "plt.title(\"不同batch_size大小下损失函数\")\n",
    "plt.plot(list(range(1, 23)), loss_vec4, label='batch_size=4')\n",
    "plt.plot(list(range(1, 22)), loss_vec8, label='batch_size=8')\n",
    "plt.plot(list(range(1, 22)), loss_vec16, label='batch_size=16')\n",
    "plt.plot(list(range(1, 22)), loss_vec32, label='batch_size=32')\n",
    "plt.plot(list(range(1, 23)), loss_vec64, label='batch_size=64')\n",
    "plt.legend()\n",
    "plt.show()\n",
    "# matrix = np.mat([loss_vec4, loss_vec8, loss_vec16, loss_vec32])\n",
    "# scio.savemat('batch_size.mat', {'data': matrix})"
   ]
  },
  {
   "cell_type": "code",
   "execution_count": 12,
   "id": "753f0644-def1-4c54-b8df-8fd6234d3ead",
   "metadata": {},
   "outputs": [],
   "source": [
    "s = time.strftime('%Y_%m_%d_%H_%M_%S', time.localtime())\n",
    "torch.save(model.load_state_dict(best_model_wts), f'save_model/ecgid_model_{s}.pt')"
   ]
  }
 ],
 "metadata": {
  "kernelspec": {
   "display_name": "Python 3 (ipykernel)",
   "language": "python",
   "name": "python3"
  },
  "language_info": {
   "codemirror_mode": {
    "name": "ipython",
    "version": 3
   },
   "file_extension": ".py",
   "mimetype": "text/x-python",
   "name": "python",
   "nbconvert_exporter": "python",
   "pygments_lexer": "ipython3",
   "version": "3.9.19"
  }
 },
 "nbformat": 4,
 "nbformat_minor": 5
}
